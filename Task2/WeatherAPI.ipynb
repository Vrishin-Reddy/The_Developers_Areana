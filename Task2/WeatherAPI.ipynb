{
 "cells": [
  {
   "cell_type": "code",
   "execution_count": 12,
   "id": "50330691",
   "metadata": {},
   "outputs": [
    {
     "name": "stdout",
     "output_type": "stream",
     "text": [
      "Weather API Client\n",
      "==============================\n",
      "\n",
      "Weather in Fairfax, US\n",
      "Temperature: 19.87°C (feels like 20.13°C)\n",
      "Condition: Mist\n",
      "Humidity: 85%\n",
      "Please enter a valid city name.\n",
      "Please enter a valid city name.\n",
      "Please enter a valid city name.\n",
      "Goodbye!\n"
     ]
    }
   ],
   "source": [
    "import os\n",
    "import requests\n",
    "from getpass import getpass\n",
    "\n",
    "BASE_URL = \"https://api.openweathermap.org/data/2.5/weather\"\n",
    "\n",
    "def get_api_key():\n",
    "    api_key = os.getenv(\"OWM_API_KEY\")\n",
    "    if not api_key:\n",
    "        api_key = getpass(\"Enter your OpenWeather API key (hidden): \").strip()\n",
    "    if not api_key:\n",
    "        raise RuntimeError(\"No API key provided.\")\n",
    "    return api_key\n",
    "\n",
    "def get_weather(city_name: str):\n",
    "    api_key = get_api_key()\n",
    "    try:\n",
    "        r = requests.get(\n",
    "            BASE_URL,\n",
    "            params={\"q\": city_name, \"appid\": api_key, \"units\": \"metric\"},\n",
    "            timeout=10\n",
    "        )\n",
    "        if r.status_code == 401:\n",
    "            print(\"Invalid API key (401). Rotate the key and try again.\")\n",
    "            return\n",
    "        if r.status_code == 404:\n",
    "            print(f\"City '{city_name}' not found.\")\n",
    "            return\n",
    "        r.raise_for_status()\n",
    "        data = r.json()\n",
    "        city = data[\"name\"]\n",
    "        country = data[\"sys\"][\"country\"]\n",
    "        main = data[\"main\"]\n",
    "        weather = data[\"weather\"][0][\"description\"].title()\n",
    "        print(f\"\\nWeather in {city}, {country}\")\n",
    "        print(f\"Temperature: {main['temp']}°C (feels like {main['feels_like']}°C)\")\n",
    "        print(f\"Condition: {weather}\")\n",
    "        print(f\"Humidity: {main['humidity']}%\")\n",
    "    except requests.exceptions.Timeout:\n",
    "        print(\"Request timed out.\")\n",
    "    except requests.exceptions.ConnectionError:\n",
    "        print(\"Connection error.\")\n",
    "    except requests.exceptions.RequestException as e:\n",
    "        print(f\"HTTP error: {e}\")\n",
    "\n",
    "if __name__ == \"__main__\":\n",
    "    print(\"Weather API Client\\n\" + \"=\" * 30)\n",
    "    while True:\n",
    "        city = input(\"\\nEnter city name (or 'quit' to exit): \").strip()\n",
    "        if city.lower() == \"quit\":\n",
    "            print(\"Goodbye!\")\n",
    "            break\n",
    "        if city:\n",
    "            get_weather(city)\n",
    "        else:\n",
    "            print(\"Please enter a valid city name.\")\n"
   ]
  },
  {
   "cell_type": "code",
   "execution_count": null,
   "id": "ad8036e1",
   "metadata": {},
   "outputs": [],
   "source": []
  },
  {
   "cell_type": "code",
   "execution_count": null,
   "id": "cad842dc",
   "metadata": {},
   "outputs": [],
   "source": []
  },
  {
   "cell_type": "code",
   "execution_count": null,
   "id": "5bc8ba8d",
   "metadata": {},
   "outputs": [],
   "source": []
  }
 ],
 "metadata": {
  "language_info": {
   "name": "python"
  }
 },
 "nbformat": 4,
 "nbformat_minor": 5
}
